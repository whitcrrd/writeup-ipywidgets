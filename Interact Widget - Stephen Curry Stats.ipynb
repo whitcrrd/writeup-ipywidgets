{
 "cells": [
  {
   "cell_type": "code",
   "execution_count": 155,
   "metadata": {},
   "outputs": [],
   "source": [
    "import numpy as np\n",
    "import pandas as pd\n",
    "import matplotlib.pyplot as plt\n",
    "import seaborn as sns\n",
    "import ipywidgets as widgets\n",
    "from ipywidgets import interact, interactive"
   ]
  },
  {
   "cell_type": "markdown",
   "metadata": {},
   "source": [
    "#### Read CSVs"
   ]
  },
  {
   "cell_type": "code",
   "execution_count": 54,
   "metadata": {},
   "outputs": [],
   "source": [
    "df_season = pd.read_csv('curry-2018-2019.csv')\n",
    "df_career = pd.read_csv('curry-season-averages.csv')\n",
    "df_dict = {\"Season\": df_season, \"Career\": df_career}"
   ]
  },
  {
   "cell_type": "markdown",
   "metadata": {},
   "source": [
    "### Preview Summary Statistics"
   ]
  },
  {
   "cell_type": "code",
   "execution_count": 157,
   "metadata": {},
   "outputs": [
    {
     "data": {
      "application/vnd.jupyter.widget-view+json": {
       "model_id": "12067980a5fb4bc4901b88e77e163251",
       "version_major": 2,
       "version_minor": 0
      },
      "text/plain": [
       "interactive(children=(Dropdown(description='df_key', options=('Season', 'Career'), value='Season'), Dropdown(d…"
      ]
     },
     "metadata": {},
     "output_type": "display_data"
    }
   ],
   "source": [
    "@interact\n",
    "\n",
    "def preview_dataframe(df_key = df_dict.keys(), preview = ['Head', 'Description', 'Shape', 'Unique', 'Types']):\n",
    "    df = df_dict[df_key]\n",
    "    \n",
    "    preview_return = {'Head':df.head(10), \n",
    "                      'Description':df.describe(), \n",
    "                      'Shape':df.shape, \n",
    "                      'Unique':df.nunique(axis = 0), \n",
    "                      'Types':df.dtypes}\n",
    "    to_display = preview_return[preview]\n",
    "    return to_display"
   ]
  },
  {
   "cell_type": "markdown",
   "metadata": {},
   "source": [
    "#### @interact Syntax Example"
   ]
  },
  {
   "cell_type": "code",
   "execution_count": null,
   "metadata": {},
   "outputs": [],
   "source": [
    "columns = ['PTS', '3PM', 'OREB', 'DREB', 'REB', 'AST', 'STL', 'BLK', 'TOV', '+/-']\n",
    "columns"
   ]
  },
  {
   "cell_type": "code",
   "execution_count": 153,
   "metadata": {},
   "outputs": [
    {
     "data": {
      "application/vnd.jupyter.widget-view+json": {
       "model_id": "64a0e268b70d47b2a40b9b924bc9b527",
       "version_major": 2,
       "version_minor": 0
      },
      "text/plain": [
       "interactive(children=(Dropdown(description='col', options=('PTS', '3PM', 'OREB', 'DREB', 'REB', 'AST', 'STL', …"
      ]
     },
     "metadata": {},
     "output_type": "display_data"
    }
   ],
   "source": [
    "@interact\n",
    "\n",
    "def barplot_season_stats(col=columns):\n",
    "    sns.set(style='whitegrid', palette=\"deep\", font_scale=1.1, rc={\"figure.figsize\": [14, 5]})\n",
    "    fig, ax = plt.subplots(figsize=(16,8))\n",
    "    a = sns.barplot(x=df_season['DATE'], y=df_season[col], palette=\"Blues_d\")\n",
    "    ax.set_title(\"{} by Game (2018-2019 Season)\".format(col))\n",
    "    plt.ylabel(\"# {}\".format(col))\n",
    "    \n",
    "    # X Axis - Don't need ticks\n",
    "    start, end = ax.get_xlim()\n",
    "    ax.xaxis.set_ticks(np.arange(start, end, 68))\n",
    "    ax.set(xticklabels=[\"Season Start\", \"Season End\"])\n",
    "    "
   ]
  },
  {
   "cell_type": "markdown",
   "metadata": {},
   "source": [
    "#### `interact()` Syntax Example"
   ]
  },
  {
   "cell_type": "code",
   "execution_count": 156,
   "metadata": {},
   "outputs": [],
   "source": [
    "colors = ['#3742fa', '#FDB927']\n",
    "cols = ['PTS', 'REB', 'AST', 'STL', 'BLK']"
   ]
  },
  {
   "cell_type": "code",
   "execution_count": 148,
   "metadata": {},
   "outputs": [],
   "source": [
    "df = df_season\n",
    "def plot_stats_pie(min_value, col):\n",
    "    num_above = len(df.loc[(df[col] >= min_value)])\n",
    "    num_below = len(df.loc[(df[col] < min_value)])\n",
    "    num_games = num_above + num_below\n",
    "    \n",
    "    nums = [num_above, num_below]\n",
    "    labels = [\"Above\", \"Below\"]\n",
    "    \n",
    "    print(f\"{num_games}   Games Total\")\n",
    "    print(f\"{num_above}   Games Above\")\n",
    "    print(f\"{num_below}    Games Below\")\n",
    "    \n",
    "    fig = plt.figure(figsize=(8,8))\n",
    "    plt.subplot(1,1,1)\n",
    "    plt.pie(nums, colors = colors, labels=labels, autopct='%1.1f%%', startangle=90)\n",
    "    plt.title(\"Games With {} >= {}\".format(col, min_value))\n",
    "    plt.show()"
   ]
  },
  {
   "cell_type": "code",
   "execution_count": 158,
   "metadata": {},
   "outputs": [
    {
     "data": {
      "application/vnd.jupyter.widget-view+json": {
       "model_id": "b2fedd12923b4ca0916f629ba9afa33d",
       "version_major": 2,
       "version_minor": 0
      },
      "text/plain": [
       "interactive(children=(IntSlider(value=20, description='min_value'), Dropdown(description='col', options=('PTS'…"
      ]
     },
     "metadata": {},
     "output_type": "display_data"
    },
    {
     "data": {
      "text/plain": [
       "<function __main__.plot_stats_pie(min_value, col)>"
      ]
     },
     "execution_count": 158,
     "metadata": {},
     "output_type": "execute_result"
    }
   ],
   "source": [
    "slider_range = widgets.IntSlider(value=20, min=0, max=100)\n",
    "interact(plot_stats_pie, min_value=slider_range, col=cols)"
   ]
  }
 ],
 "metadata": {
  "kernelspec": {
   "display_name": "Python 3",
   "language": "python",
   "name": "python3"
  },
  "language_info": {
   "codemirror_mode": {
    "name": "ipython",
    "version": 3
   },
   "file_extension": ".py",
   "mimetype": "text/x-python",
   "name": "python",
   "nbconvert_exporter": "python",
   "pygments_lexer": "ipython3",
   "version": "3.7.1"
  },
  "toc": {
   "base_numbering": 1,
   "nav_menu": {},
   "number_sections": true,
   "sideBar": true,
   "skip_h1_title": false,
   "title_cell": "Table of Contents",
   "title_sidebar": "Contents",
   "toc_cell": false,
   "toc_position": {},
   "toc_section_display": true,
   "toc_window_display": false
  }
 },
 "nbformat": 4,
 "nbformat_minor": 2
}
